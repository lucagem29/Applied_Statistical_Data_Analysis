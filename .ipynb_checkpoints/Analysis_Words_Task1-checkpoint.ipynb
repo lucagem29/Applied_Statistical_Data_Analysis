{
 "cells": [
  {
   "cell_type": "code",
   "execution_count": 14,
   "id": "66c403f3-33f6-49d3-8798-ee948c6c7f3e",
   "metadata": {},
   "outputs": [],
   "source": [
    "from collections import Counter"
   ]
  },
  {
   "cell_type": "code",
   "execution_count": 20,
   "id": "a32d6b39-f4f7-404a-ba06-ac54b52ace88",
   "metadata": {},
   "outputs": [
    {
     "name": "stdout",
     "output_type": "stream",
     "text": [
      "{'In': 1, 'academia': 1, 'and': 1, 'political': 1, 'debates': 1}\n",
      "{'In': 2, 'academia': 8, 'and': 3, 'political': 9, 'debates': 7}\n",
      "{'In': 'unknown', 'academia': 'unknown', 'and': 'unknown', 'political': 'unknown', 'debates': 'unknown'}\n"
     ]
    }
   ],
   "source": [
    "text = 'In academia and political debates'\n",
    "\n",
    "# Wortliste erstellen\n",
    "word_list = text.split()\n",
    "\n",
    "# Wörter und ihre Häufigkeit zählen\n",
    "word_frequency = dict(Counter(word_list))\n",
    "print(word_frequency)\n",
    "\n",
    "# Wörter und ihre Längen in einem Dictionary speichern\n",
    "word_length = {word: len(word) for word in word_list}\n",
    "print(word_length)\n",
    "\n",
    "# Discord channel einrichten, den code fertig machen und auf github pushen. Link dann posten in discord. \n",
    "\n",
    "def determine_word_type(word):\n",
    "    if word.endswith('ing') or word.endswith('ed'):\n",
    "        return 'verb'\n",
    "    elif word.endswith('ness') or word.endswith('tion'):\n",
    "        return 'none'\n",
    "    elif word.endswith('y') or word.endswith('ous'):\n",
    "        return 'adjective'\n",
    "    else:\n",
    "        return 'unknown'\n",
    "\n",
    "word_type_dict = {word: determine_word_type(word) for word in word_list}\n",
    "\n",
    "print(word_type_dict)\n",
    "\n",
    "\n",
    "\n"
   ]
  },
  {
   "cell_type": "code",
   "execution_count": null,
   "id": "33e738d6-d24e-445c-9ac9-54ae4cc714cd",
   "metadata": {},
   "outputs": [],
   "source": []
  }
 ],
 "metadata": {
  "kernelspec": {
   "display_name": "Python 3 (ipykernel)",
   "language": "python",
   "name": "python3"
  },
  "language_info": {
   "codemirror_mode": {
    "name": "ipython",
    "version": 3
   },
   "file_extension": ".py",
   "mimetype": "text/x-python",
   "name": "python",
   "nbconvert_exporter": "python",
   "pygments_lexer": "ipython3",
   "version": "3.12.4"
  }
 },
 "nbformat": 4,
 "nbformat_minor": 5
}
