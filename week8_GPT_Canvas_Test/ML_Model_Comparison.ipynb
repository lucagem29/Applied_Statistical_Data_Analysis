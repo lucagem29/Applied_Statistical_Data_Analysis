{
 "cells": [
  {
   "cell_type": "markdown",
   "id": "4fba9b2d",
   "metadata": {},
   "source": [
    "# **Machine Learning Model Comparison Framework**\n",
    "This notebook provides a framework for comparing machine learning models (Logistic Regression, GLM, and Decision Tree) for classification problems. It includes data preparation, model training and evaluation, and visualizations.\n"
   ]
  },
  {
   "cell_type": "code",
   "execution_count": null,
   "id": "1f49548f",
   "metadata": {},
   "outputs": [],
   "source": [
    "# Import required libraries\n",
    "import pandas as pd\n",
    "import numpy as np\n",
    "from sklearn.model_selection import train_test_split, cross_val_score\n",
    "from sklearn.preprocessing import StandardScaler, OneHotEncoder\n",
    "from sklearn.compose import ColumnTransformer\n",
    "from sklearn.pipeline import Pipeline\n",
    "from sklearn.linear_model import LogisticRegression\n",
    "from sklearn.tree import DecisionTreeClassifier\n",
    "from sklearn.dummy import DummyClassifier\n",
    "from sklearn.metrics import confusion_matrix, classification_report, roc_auc_score, f1_score, accuracy_score, matthews_corrcoef, roc_curve\n",
    "import statsmodels.api as sm\n",
    "import matplotlib.pyplot as plt\n",
    "import seaborn as sns\n",
    "from sklearn.model_selection import GridSearchCV\n",
    "%matplotlib inline\n"
   ]
  },
  {
   "cell_type": "markdown",
   "id": "83880059",
   "metadata": {},
   "source": [
    "## **Load and Prepare Data**\n",
    "Here, we load the dataset and prepare it for modeling.\n"
   ]
  },
  {
   "cell_type": "code",
   "execution_count": null,
   "id": "5f115246",
   "metadata": {},
   "outputs": [],
   "source": [
    "# Function: Load dataset\n",
    "def load_dataset(filepath):\n",
    "    return pd.read_csv(filepath)\n",
    "\n",
    "# Function: Preprocess data\n",
    "def preprocess_data(df, target_column):\n",
    "    numeric_features = df.select_dtypes(include=['float64', 'int64']).columns.drop(target_column)\n",
    "    categorical_features = df.select_dtypes(include=['object', 'category']).columns\n",
    "\n",
    "    numeric_transformer = Pipeline(steps=[('scaler', StandardScaler())])\n",
    "    categorical_transformer = Pipeline(steps=[('onehot', OneHotEncoder(handle_unknown='ignore'))])\n",
    "\n",
    "    preprocessor = ColumnTransformer(\n",
    "        transformers=[\n",
    "            ('num', numeric_transformer, numeric_features),\n",
    "            ('cat', categorical_transformer, categorical_features)])\n",
    "\n",
    "    X = df.drop(columns=[target_column])\n",
    "    y = df[target_column]\n",
    "    X = preprocessor.fit_transform(X)\n",
    "    return X, y\n",
    "\n",
    "# Example\n",
    "dataset_path = \"your_dataset.csv\"  # Replace with your dataset path\n",
    "target_column = \"target\"  # Specify the target column\n",
    "df = load_dataset(dataset_path)\n",
    "X, y = preprocess_data(df, target_column)\n"
   ]
  },
  {
   "cell_type": "markdown",
   "id": "f0572f1f",
   "metadata": {},
   "source": [
    "## **Dummy Model as Baseline**\n",
    "The dummy model serves as a baseline and makes predictions based on simple rules (e.g., most frequent class).\n"
   ]
  },
  {
   "cell_type": "code",
   "execution_count": null,
   "id": "7d7e4b56",
   "metadata": {},
   "outputs": [],
   "source": [
    "# Evaluate dummy model\n",
    "dummy_clf = DummyClassifier(strategy='most_frequent')\n",
    "dummy_clf.fit(X, y)\n",
    "dummy_accuracy = dummy_clf.score(X, y)\n",
    "print(\"Dummy accuracy:\", dummy_accuracy)\n"
   ]
  },
  {
   "cell_type": "markdown",
   "id": "4029a6d7",
   "metadata": {},
   "source": [
    "## **Train and Evaluate Models**\n",
    "We train and evaluate multiple models (Logistic Regression, Decision Tree).\n"
   ]
  },
  {
   "cell_type": "code",
   "execution_count": null,
   "id": "67aff732",
   "metadata": {},
   "outputs": [],
   "source": [
    "# Function: Train and evaluate model\n",
    "def train_and_evaluate(X, y, model, name):\n",
    "    X_train, X_test, y_train, y_test = train_test_split(X, y, test_size=0.3, random_state=42)\n",
    "    model.fit(X_train, y_train)\n",
    "    y_pred = model.predict(X_test)\n",
    "    conf_matrix = confusion_matrix(y_test, y_pred)\n",
    "    print(f\"\\n{name} - Report:\\n\", classification_report(y_test, y_pred))\n",
    "    return conf_matrix\n",
    "\n",
    "# Define models\n",
    "models = [\n",
    "    (LogisticRegression(max_iter=1000), \"Logistic Regression\"),\n",
    "    (DecisionTreeClassifier(), \"Decision Tree\")\n",
    "]\n",
    "\n",
    "# Evaluate models\n",
    "for model, name in models:\n",
    "    conf_matrix = train_and_evaluate(X, y, model, name)\n"
   ]
  },
  {
   "cell_type": "markdown",
   "id": "f9c3d203",
   "metadata": {},
   "source": [
    "## **Visualization: Confusion Matrix**\n",
    "Here, we visualize the confusion matrix to evaluate the performance of the models.\n"
   ]
  },
  {
   "cell_type": "code",
   "execution_count": null,
   "id": "03aec92c",
   "metadata": {},
   "outputs": [],
   "source": [
    "# Function: Plot confusion matrix\n",
    "def plot_confusion_matrix(conf_matrix, title):\n",
    "    plt.figure(figsize=(6, 6))\n",
    "    sns.heatmap(conf_matrix, annot=True, fmt='d', cmap='Blues', xticklabels=['Negative', 'Positive'], yticklabels=['Negative', 'Positive'])\n",
    "    plt.title(title)\n",
    "    plt.ylabel('Actual')\n",
    "    plt.xlabel('Predicted')\n",
    "    plt.show()\n"
   ]
  }
 ],
 "metadata": {
  "kernelspec": {
   "display_name": "Python 3",
   "language": "python",
   "name": "python3"
  },
  "language_info": {
   "codemirror_mode": {
    "name": "ipython",
    "version": 3
   },
   "file_extension": ".py",
   "mimetype": "text/x-python",
   "name": "python",
   "nbconvert_exporter": "python",
   "pygments_lexer": "ipython3",
   "version": "3.8.10"
  }
 },
 "nbformat": 4,
 "nbformat_minor": 5
}
